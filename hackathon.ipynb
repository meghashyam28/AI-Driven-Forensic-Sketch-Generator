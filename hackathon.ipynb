{
 "cells": [
  {
   "cell_type": "code",
   "execution_count": 2,
   "metadata": {},
   "outputs": [
    {
     "name": "stdout",
     "output_type": "stream",
     "text": [
      "✅ Folder found: C:\\Users\\vikra\\OneDrive\\Desktop\\dataset\\train\\real_images\n",
      "📂 Files: ['f-005-01.jpg', 'f-006-01.jpg', 'f-007-01.jpg', 'f-008-01.jpg', 'f-009-01.jpg', 'f-010-01.jpg', 'f-011-01.jpg', 'f-012-01.jpg', 'f-013-01.jpg', 'f-014-01.jpg', 'f-015-01.jpg', 'f-016-01.jpg', 'f-017-01.jpg', 'f-018-01.jpg', 'f-019-01.jpg', 'f-020-01.jpg', 'f-021-01.jpg', 'f-022-01.jpg', 'f-023-01.jpg', 'f-024-01.jpg', 'f-025-01.jpg', 'f-026-01.jpg', 'f-027-01.jpg', 'f-028-01.jpg', 'f-029-01.jpg', 'f-030-01.jpg', 'f-031-01.jpg', 'f-032-01.jpg', 'f-033-01.jpg', 'f-034-01.jpg', 'f-035-01.jpg', 'f-036-01.jpg', 'f-037-01.jpg', 'f-038-01.jpg', 'f-039-01.jpg', 'f-040-01.jpg', 'f-041-01.jpg', 'f-042-01.jpg', 'f-043-01.jpg', 'f1-001-01.jpg', 'f1-002-01.jpg', 'f1-003-01.jpg', 'f1-004-01.jpg', 'f1-005-01.jpg', 'f1-006-01.jpg', 'f1-007-01.jpg', 'f1-008-01.jpg', 'f1-009-01.jpg', 'f1-010-01.jpg', 'f1-011-01.jpg', 'f1-012-01.jpg', 'f1-013-01.jpg', 'f1-014-01.jpg', 'f1-015-01.jpg', 'm-008-01.jpg', 'm-009-01.jpg', 'm-010-01.jpg', 'm-011-01.jpg', 'm-012-01.jpg', 'm-013-01.jpg', 'm-014-01.jpg', 'm-015-01.jpg', 'm-016-01.jpg', 'm-017-01.jpg', 'm-018-01.jpg', 'm-019-01.jpg', 'm-021-01.jpg', 'm-022-01.jpg', 'm-023-01.jpg', 'm-024-01.jpg', 'm-025-01.jpg', 'm-026-01.jpg', 'm-027-01.jpg', 'm-028-01.jpg', 'm-029-01.jpg', 'm-030-01.jpg', 'm-031-01.jpg', 'm-032-01.jpg', 'm-033-01.jpg', 'm-034-01.jpg', 'm-035-01.jpg', 'm-036-01.jpg', 'm-037-01.jpg', 'm-038-01.jpg', 'm-039-01.jpg', 'm-040-01.jpg', 'm-041-01.jpg', 'm-042-01.jpg', 'm-043-01.jpg', 'm-044-01.jpg', 'm-045-01.jpg', 'm1-001-01.jpg', 'm1-002-01.jpg', 'm1-003-01.jpg', 'm1-004-01.jpg', 'm1-005-01.jpg', 'm1-006-01.jpg', 'm1-007-01.jpg', 'm1-008-01.jpg', 'm1-009-01.jpg', 'm1-010-01.jpg', 'm1-011-01.jpg', 'm1-012-01.jpg', 'm1-013-01.jpg', 'm1-014-01.jpg', 'm1-015-01.jpg', 'm1-016-01.jpg', 'm1-017-01.jpg', 'm1-018-01.jpg', 'm1-019-01.jpg', 'm1-020-01.jpg', 'm1-021-01.jpg', 'm1-022-01.jpg', 'm1-023-01.jpg', 'm1-024-01.jpg', 'm1-025-01.jpg', 'm1-026-01.jpg', 'm1-027-01.jpg', 'm1-028-01.jpg', 'm1-029-01.jpg', 'm1-030-01.jpg', 'm1-031-01.jpg', 'm1-032-01.jpg', 'm1-033-01.jpg', 'm1-034-01.jpg', 'm1-035-01.jpg', 'm1-036-01.jpg', 'm1-037-01.jpg', 'm1-038-01.jpg', 'm1-039-01.jpg', 'm1-040-01.jpg', 'm1-041-01.jpg']\n",
      "\n",
      "✅ Folder found: C:\\Users\\vikra\\OneDrive\\Desktop\\dataset\\train\\sketch_images\n",
      "📂 Files: ['f-039-01-sz1.jpg', 'f-040-01-sz1.jpg', 'f-041-01-sz1.jpg', 'f-042-01-sz1.jpg', 'f-043-01-sz1.jpg', 'f1-001-01-sz1.jpg', 'f1-002-01-sz1.jpg', 'f1-003-01-sz1.jpg', 'f1-004-01-sz1.jpg', 'f1-005-01-sz1.jpg', 'f1-006-01-sz1.jpg', 'f1-007-01-sz1.jpg', 'f1-008-01-sz1.jpg', 'f1-009-01-sz1.jpg', 'f1-010-01-sz1.jpg', 'f1-011-01-sz1.jpg', 'f1-012-01-sz1.jpg', 'f1-013-01-sz1.jpg', 'f1-014-01-sz1.jpg', 'f1-015-01-sz1.jpg', 'F2-005-01-sz1.jpg', 'F2-006-01-sz1.jpg', 'F2-007-01-sz1.jpg', 'F2-008-01-sz1.jpg', 'F2-009-01-sz1.jpg', 'F2-010-01-sz1.jpg', 'F2-011-01-sz1.jpg', 'F2-012-01-sz1.jpg', 'F2-013-01-sz1.jpg', 'F2-014-01-sz1.jpg', 'F2-015-01-sz1.jpg', 'F2-016-01-sz1.jpg', 'F2-017-01-sz1.jpg', 'F2-018-01-sz1.jpg', 'F2-019-01-sz1.jpg', 'F2-020-01-sz1.jpg', 'F2-021-01-sz1.jpg', 'F2-022-01-sz1.jpg', 'F2-023-01-sz1.jpg', 'F2-024-01-sz1.jpg', 'F2-025-01-sz1.jpg', 'F2-026-01-sz1.jpg', 'F2-027-01-sz1.jpg', 'F2-028-01-sz1.jpg', 'F2-029-01-sz1.jpg', 'F2-030-01-sz1.jpg', 'F2-031-01-sz1.jpg', 'F2-032-01-sz1.jpg', 'F2-033-01-sz1.jpg', 'F2-034-01-sz1.jpg', 'F2-035-01-sz1.jpg', 'F2-036-01-sz1.jpg', 'F2-037-01-sz1.jpg', 'F2-038-01-sz1.jpg', 'm1-001-01-sz1.jpg', 'm1-002-01-sz1.jpg', 'm1-003-01-sz1.jpg', 'm1-004-01-sz1.jpg', 'm1-005-01-sz1.jpg', 'm1-006-01-sz1.jpg', 'm1-007-01-sz1.jpg', 'm1-008-01-sz1.jpg', 'm1-009-01-sz1.jpg', 'm1-010-01-sz1.jpg', 'm1-011-01-sz1.jpg', 'm1-012-01-sz1.jpg', 'm1-013-01-sz1.jpg', 'm1-014-01-sz1.jpg', 'm1-015-01-sz1.jpg', 'm1-016-01-sz1.jpg', 'm1-017-01-sz1.jpg', 'm1-018-01-sz1.jpg', 'm1-019-01-sz1.jpg', 'm1-020-01-sz1.jpg', 'm1-021-01-sz1.jpg', 'm1-022-01-sz1.jpg', 'm1-023-01-sz1.jpg', 'm1-024-01-sz1.jpg', 'm1-025-01-sz1.jpg', 'm1-026-01-sz1.jpg', 'm1-027-01-sz1.jpg', 'm1-028-01-sz1.jpg', 'm1-029-01-sz1.jpg', 'm1-030-01-sz1.jpg', 'm1-031-01-sz1.jpg', 'm1-032-01-sz1.jpg', 'm1-033-01-sz1.jpg', 'm1-034-01-sz1.jpg', 'm1-035-01-sz1.jpg', 'm1-036-01-sz1.jpg', 'm1-037-01-sz1.jpg', 'm1-038-01-sz1.jpg', 'm1-039-01-sz1.jpg', 'm1-040-01-sz1.jpg', 'm1-041-01-sz1.jpg', 'M2-008-01-sz1.jpg', 'M2-009-01-sz1.jpg', 'M2-010-01-sz1.jpg', 'M2-011-01-sz1.jpg', 'M2-012-01-sz1.jpg', 'M2-013-01-sz1.jpg', 'M2-014-01-sz1.jpg', 'M2-015-01-sz1.jpg', 'M2-016-01-sz1.jpg', 'M2-017-01-sz1.jpg', 'M2-018-01-sz1.jpg', 'M2-019-01-sz1.jpg', 'M2-021-01-sz1.jpg', 'M2-022-01-sz1.jpg', 'M2-023-01-sz1.jpg', 'M2-024-01-sz1.jpg', 'M2-025-01-sz1.jpg', 'M2-026-01-sz1.jpg', 'M2-027-01-sz1.jpg', 'M2-028-01-sz1.jpg', 'M2-029-01-sz1.jpg', 'M2-030-01-sz1.jpg', 'M2-031-01-sz1.jpg', 'M2-032-01-sz1.jpg', 'M2-033-01-sz1.jpg', 'M2-034-01-sz1.jpg', 'M2-035-01-sz1.jpg', 'M2-036-01-sz1.jpg', 'M2-037-01-sz1.jpg', 'M2-038-01-sz1.jpg', 'M2-039-01-sz1.jpg', 'M2-040-01-sz1.jpg', 'M2-041-01-sz1.jpg', 'M2-042-01-sz1.jpg', 'M2-043-01-sz1.jpg', 'M2-044-01-sz1.jpg', 'M2-045-01-sz1.jpg']\n",
      "\n",
      "✅ Folder found: C:\\Users\\vikra\\OneDrive\\Desktop\\dataset\\test\\real_images\n",
      "📂 Files: ['m-046-01.jpg', 'm-047-01.jpg', 'm-048-01.jpg', 'm-049-01.jpg', 'm-050-01.jpg', 'm-051-01.jpg', 'm-052-01.jpg', 'm-053-01.jpg', 'm-054-01.jpg', 'm-055-01.jpg', 'm-056-01.jpg', 'm-057-01.jpg', 'm-058-01.jpg', 'm-059-01.jpg', 'm-060-01.jpg', 'm-061-01.jpg', 'm-062-01.jpg', 'm-063-01.jpg', 'm-064-01.jpg', 'm-065-01.jpg', 'm-066-01.jpg', 'm-067-01.jpg', 'm-068-01.jpg', 'm-069-01.jpg', 'm-070-01.jpg', 'm-071-01.jpg', 'm-072-01.jpg', 'm-073-01.jpg', 'm-074-01.jpg', 'm-075-01.jpg', 'm-076-01.jpg', 'm-077-01.jpg', 'm-078-01.jpg', 'm-079-01.jpg', 'm-080-01.jpg', 'm-081-01.jpg', 'm-082-01.jpg', 'm-083-01.jpg', 'm-084-01.jpg', 'm-085-01.jpg', 'm-086-01.jpg', 'm-087-01.jpg', 'm-088-01.jpg', 'm-089-01.jpg', 'm-090-01.jpg', 'm-091-01.jpg', 'm-092-01.jpg', 'm-093-01.jpg', 'm-094-01.jpg', 'm-095-01.jpg', 'm-096-01.jpg', 'm-097-01.jpg', 'm-098-01.jpg', 'm-099-01.jpg', 'm-100-01.jpg', 'm-101-01.jpg']\n",
      "\n",
      "✅ Folder found: C:\\Users\\vikra\\OneDrive\\Desktop\\dataset\\test\\sketch_images\n",
      "📂 Files: ['m-063-01-sz1.jpg', 'm-064-01-sz1.jpg', 'm-065-01-sz1.jpg', 'm-066-01-sz1.jpg', 'm-067-01-sz1.jpg', 'm-068-01-sz1.jpg', 'm-069-01-sz1.jpg', 'm-070-01-sz1.jpg', 'm-071-01-sz1.jpg', 'm-072-01-sz1.jpg', 'm-073-01-sz1.jpg', 'm-074-01-sz1.jpg', 'm-075-01-sz1.jpg', 'm-076-01-sz1.jpg', 'm-077-01-sz1.jpg', 'm-078-01-sz1.jpg', 'm-079-01-sz1.jpg', 'm-080-01-sz1.jpg', 'm-081-01-sz1.jpg', 'm-082-01-sz1.jpg', 'm-083-01-sz1.jpg', 'm-084-01-sz1.jpg', 'm-085-01-sz1.jpg', 'm-086-01-sz1.jpg', 'm-087-01-sz1.jpg', 'm-088-01-sz1.jpg', 'm-089-01-sz1.jpg', 'm-090-01-sz1.jpg', 'm-091-01-sz1.jpg', 'm-092-01-sz1.jpg', 'm-093-01-sz1.jpg', 'm-094-01-sz1.jpg', 'm-095-01-sz1.jpg', 'm-096-01-sz1.jpg', 'm-097-01-sz1.jpg', 'm-098-01-sz1.jpg', 'm-099-01-sz1.jpg', 'm-100-01-sz1.jpg', 'm-101-01-sz1.jpg', 'M2-046-01-sz1.jpg', 'M2-047-01-sz1.jpg', 'M2-048-01-sz1.jpg', 'M2-049-01-sz1.jpg', 'M2-050-01-sz1.jpg', 'M2-051-01-sz1.jpg', 'M2-052-01-sz1.jpg', 'M2-053-01-sz1.jpg', 'M2-054-01-sz1.jpg', 'M2-055-01-sz1.jpg', 'M2-056-01-sz1.jpg', 'M2-057-01-sz1.jpg', 'M2-058-01-sz1.jpg', 'M2-059-01-sz1.jpg', 'M2-060-01-sz1.jpg', 'M2-061-01-sz1.jpg', 'M2-062-01-sz1.jpg']\n",
      "\n"
     ]
    }
   ],
   "source": [
    "import os\n",
    "\n",
    "# Define dataset paths\n",
    "dataset_path = r\"C:\\Users\\vikra\\OneDrive\\Desktop\\dataset\"\n",
    "train_real = os.path.join(dataset_path, \"train\", \"real_images\")\n",
    "train_sketch = os.path.join(dataset_path, \"train\", \"sketch_images\")\n",
    "test_real = os.path.join(dataset_path, \"test\", \"real_images\")\n",
    "test_sketch = os.path.join(dataset_path, \"test\", \"sketch_images\")\n",
    "\n",
    "# Check if paths exist\n",
    "for path in [train_real, train_sketch, test_real, test_sketch]:\n",
    "    if os.path.exists(path):\n",
    "        print(f\"✅ Folder found: {path}\")\n",
    "        print(f\"📂 Files: {os.listdir(path)}\\n\")\n",
    "    else:\n",
    "        print(f\"❌ Folder NOT found: {path}\\n\")\n"
   ]
  },
  {
   "cell_type": "code",
   "execution_count": 3,
   "metadata": {},
   "outputs": [
    {
     "name": "stdout",
     "output_type": "stream",
     "text": [
      "✅ Grayscale conversion completed! Processed images are stored in respective folders.\n"
     ]
    }
   ],
   "source": [
    "import cv2\n",
    "import os\n",
    "\n",
    "def preprocess_images(input_folder, output_folder):\n",
    "    if not os.path.exists(input_folder):\n",
    "        print(f\"⚠️ Skipping {input_folder} (Folder not found)\")\n",
    "        return\n",
    "\n",
    "    os.makedirs(output_folder, exist_ok=True)  # Create output folder if missing\n",
    "\n",
    "    for filename in os.listdir(input_folder):\n",
    "        img_path = os.path.join(input_folder, filename)\n",
    "        img = cv2.imread(img_path)\n",
    "\n",
    "        if img is None:\n",
    "            print(f\"⚠️ Skipping {filename} (Invalid image file)\")\n",
    "            continue\n",
    "        \n",
    "        img = cv2.cvtColor(img, cv2.COLOR_BGR2GRAY)  # Convert to grayscale\n",
    "        img = cv2.resize(img, (256, 256))  # Resize to 256x256\n",
    "        cv2.imwrite(os.path.join(output_folder, filename), img)  # Save processed image\n",
    "\n",
    "# Apply preprocessing\n",
    "preprocess_images(train_real, os.path.join(dataset_path, \"train\", \"real_processed\"))\n",
    "preprocess_images(train_sketch, os.path.join(dataset_path, \"train\", \"sketch_processed\"))\n",
    "preprocess_images(test_real, os.path.join(dataset_path, \"test\", \"real_processed\"))\n",
    "preprocess_images(test_sketch, os.path.join(dataset_path, \"test\", \"sketch_processed\"))\n",
    "\n",
    "print(\"✅ Grayscale conversion completed! Processed images are stored in respective folders.\")"
   ]
  },
  {
   "cell_type": "code",
   "execution_count": null,
   "metadata": {},
   "outputs": [
    {
     "name": "stderr",
     "output_type": "stream",
     "text": [
      "'git' is not recognized as an internal or external command,\n",
      "operable program or batch file.\n"
     ]
    }
   ],
   "source": []
  }
 ],
 "metadata": {
  "kernelspec": {
   "display_name": "Python 3",
   "language": "python",
   "name": "python3"
  },
  "language_info": {
   "codemirror_mode": {
    "name": "ipython",
    "version": 3
   },
   "file_extension": ".py",
   "mimetype": "text/x-python",
   "name": "python",
   "nbconvert_exporter": "python",
   "pygments_lexer": "ipython3",
   "version": "3.11.5"
  }
 },
 "nbformat": 4,
 "nbformat_minor": 2
}
